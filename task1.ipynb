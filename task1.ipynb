{
 "cells": [
  {
   "cell_type": "code",
   "execution_count": null,
   "metadata": {
    "collapsed": true
   },
   "outputs": [],
   "source": [
    "%matplotlib inline\n",
    "\n",
    "import neurolab as nl\n",
    "import numpy as np\n",
    "import matplotlib.pylab as pl\n",
    "\n",
    "pl.style.use('ggplot')"
   ]
  },
  {
   "cell_type": "code",
   "execution_count": 1,
   "metadata": {},
   "outputs": [
    {
     "ename": "NameError",
     "evalue": "name 'np' is not defined",
     "traceback": [
      "\u001b[0;31m---------------------------------------------------------------------------\u001b[0m",
      "\u001b[0;31mNameError\u001b[0m                                 Traceback (most recent call last)",
      "\u001b[0;32m<ipython-input-1-af56a6ca0720>\u001b[0m in \u001b[0;36m<module>\u001b[0;34m()\u001b[0m\n\u001b[1;32m      1\u001b[0m \u001b[0mn\u001b[0m \u001b[0;34m=\u001b[0m \u001b[0;36m50\u001b[0m\u001b[0;34m\u001b[0m\u001b[0m\n\u001b[1;32m      2\u001b[0m \u001b[0;34m\u001b[0m\u001b[0m\n\u001b[0;32m----> 3\u001b[0;31m \u001b[0mx\u001b[0m \u001b[0;34m=\u001b[0m \u001b[0mnp\u001b[0m\u001b[0;34m.\u001b[0m\u001b[0mrandom\u001b[0m\u001b[0;34m.\u001b[0m\u001b[0muniform\u001b[0m\u001b[0;34m(\u001b[0m\u001b[0;36m0\u001b[0m\u001b[0;34m,\u001b[0m \u001b[0;36m5\u001b[0m\u001b[0;34m,\u001b[0m \u001b[0;34m(\u001b[0m\u001b[0mn\u001b[0m\u001b[0;34m,\u001b[0m \u001b[0;36m2\u001b[0m\u001b[0;34m)\u001b[0m\u001b[0;34m)\u001b[0m\u001b[0;34m\u001b[0m\u001b[0m\n\u001b[0m\u001b[1;32m      4\u001b[0m \u001b[0mxtrain\u001b[0m \u001b[0;34m=\u001b[0m \u001b[0mnp\u001b[0m\u001b[0;34m.\u001b[0m\u001b[0mrandom\u001b[0m\u001b[0;34m.\u001b[0m\u001b[0muniform\u001b[0m\u001b[0;34m(\u001b[0m\u001b[0;36m0\u001b[0m\u001b[0;34m,\u001b[0m \u001b[0;36m5\u001b[0m\u001b[0;34m,\u001b[0m \u001b[0;34m(\u001b[0m\u001b[0mn\u001b[0m\u001b[0;34m,\u001b[0m \u001b[0;36m2\u001b[0m\u001b[0;34m)\u001b[0m\u001b[0;34m)\u001b[0m\u001b[0;34m\u001b[0m\u001b[0m\n\u001b[1;32m      5\u001b[0m \u001b[0;31m#np.array([[3., 1.], [4., 2.], [2., 1.], [3., 3.], [4., 4.], [1., 1.], [2., 2.], [3., 1.], [0.5, 2.], [0.5, 4], [0.5, 3], [2., 4.], [3., 4.5], [2., 4.5], [1., 4.5]])\u001b[0m\u001b[0;34m\u001b[0m\u001b[0;34m\u001b[0m\u001b[0m\n",
      "\u001b[0;31mNameError\u001b[0m: name 'np' is not defined"
     ],
     "output_type": "error"
    }
   ],
   "source": [
    "n = 50\n",
    "\n",
    "x = np.random.uniform(0, 5, (n, 2))\n",
    "xtrain = np.random.uniform(0, 5, (n, 2))\n",
    "#np.array([[3., 1.], [4., 2.], [2., 1.], [3., 3.], [4., 4.], [1., 1.], [2., 2.], [3., 1.], [0.5, 2.], [0.5, 4], [0.5, 3], [2., 4.], [3., 4.5], [2., 4.5], [1., 4.5]])\n",
    "\n",
    "d = np.zeros(2*n).reshape(n, 2)\n",
    "\n",
    "for i in range(n):\n",
    "    if (xtrain[i, 1] - xtrain[i, 0] > 1):\n",
    "        d[i, 1] = 1\n",
    "        if (xtrain[i, 1] + xtrain[i, 0] > 5):\n",
    "            d[i, 0] = 1\n",
    "        else:\n",
    "            d[i, 0] = -1\n",
    "    else:\n",
    "        d[i, 1] = -1\n",
    "        if (xtrain[i, 1] + xtrain[i, 0] > 5):\n",
    "            d[i, 0] = 1\n",
    "        else:\n",
    "            d[i, 0] = -1\n",
    "            \n",
    "pl.subplot(211)\n",
    "pl.plot([0., 5.], [5., 0.], 'brown')\n",
    "pl.plot([0., 4.], [1., 5.], 'brown')\n",
    "pl.ylabel(\"Train data\")\n",
    "pl.plot(xtrain[:,0], xtrain[:,1], 'b*')\n",
    "pl.subplot(212)\n",
    "pl.plot([0., 5.], [5., 0.], 'brown')\n",
    "pl.plot([0., 4.], [1., 5.], 'brown')\n",
    "pl.ylabel(\"Generated data\")\n",
    "pl.plot(x[:,0], x[:,1], 'b+')\n",
    "pl.show()"
   ]
  },
  {
   "cell_type": "code",
   "execution_count": 17,
   "metadata": {
    "scrolled": false
   },
   "outputs": [
    {
     "name": "stdout",
     "output_type": "stream",
     "text": [
      "Epoch: 100; Error: 16.0;\n",
      "The goal of learning is reached\n"
     ]
    },
    {
     "data": {
      "image/png": "[encoded data removed]",
      "text/plain": [
       "<matplotlib.figure.Figure at 0x7f06012ee080>"
      ]
     },
     "metadata": {},
     "output_type": "display_data"
    }
   ],
   "source": [
    "net = nl.net.newp([[0., 5.], [0., 5.]], 2, nl.net.trans.HardLims())\n",
    "\n",
    "err = net.train(xtrain, d.reshape(n, 2), epochs=1000, show=100, goal=0.002)\n",
    "\n",
    "out = net.sim(x)\n",
    "\n",
    "pl.plot([0., 5.], [5., 0.], 'brown')\n",
    "pl.plot([0., 4.], [1., 5.], 'brown')\n",
    "\n",
    "for i in range(n):\n",
    "    if out[i, 0] == 1 and out[i, 1] == 1:\n",
    "        pl.plot(x[i,0], x[i,1], 'ro')\n",
    "    elif out[i, 0] == -1 and out[i, 1] == 1:\n",
    "        pl.plot(x[i,0], x[i,1], 'go')\n",
    "    elif out[i, 0] == 1 and out[i, 1] == -1:\n",
    "        pl.plot(x[i,0], x[i,1], 'b+')\n",
    "    elif out[i, 0] == -1 and out[i, 1] == -1:\n",
    "        pl.plot(x[i,0], x[i,1], 'r+')\n",
    "        \n",
    "pl.show()"
   ]
  },
  {
   "cell_type": "code",
   "execution_count": null,
   "metadata": {
    "collapsed": true
   },
   "outputs": [],
   "source": [
    ""
   ]
  }
 ],
 "metadata": {
  "kernelspec": {
   "display_name": "Python 3",
   "language": "python",
   "name": "python3"
  },
  "language_info": {
   "codemirror_mode": {
    "name": "ipython",
    "version": 3.0
   },
   "file_extension": ".py",
   "mimetype": "text/x-python",
   "name": "python",
   "nbconvert_exporter": "python",
   "pygments_lexer": "ipython3",
   "version": "3.6.1"
  }
 },
 "nbformat": 4,
 "nbformat_minor": 0
}