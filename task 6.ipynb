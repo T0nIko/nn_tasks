{
 "cells": [
  {
   "cell_type": "code",
   "execution_count": 7,
   "metadata": {
    "collapsed": true
   },
   "outputs": [],
   "source": [
    "%matplotlib inline\n",
    "\n",
    "from neurolab.core import Net\n",
    "from neurolab import trans\n",
    "from neurolab import layer\n",
    "from neurolab import train\n",
    "from neurolab import error\n",
    "import numpy as np\n",
    "import matplotlib.pylab as pl\n",
    "\n",
    "pl.style.use('ggplot')\n",
    "pl.rcParams[\"figure.figsize\"] = [12, 9]"
   ]
  },
  {
   "cell_type": "code",
   "execution_count": 8,
   "metadata": {},
   "outputs": [],
   "source": [
    "def newlvq_for_memory(minmax, cn0, cn1):\n",
    "\n",
    "    ci = len(minmax)\n",
    "\n",
    "    layer_inp = layer.Competitive(ci, cn0)\n",
    "    layer_out = layer.Perceptron(cn0, cn1, trans.PureLin())\n",
    "    layer_out.initf = None\n",
    "    layer_out.np['b'].fill(0.0)\n",
    "    layer_out.np['w'].fill(0.0)\n",
    "\n",
    "    net = Net(minmax, cn1, [layer_inp, layer_out],\n",
    "                            [[-1], [0], [1]], train.train_lvq, error.MSE())\n",
    "\n",
    "    return net"
   ]
  },
  {
   "cell_type": "code",
   "execution_count": 9,
   "metadata": {
    "collapsed": true
   },
   "outputs": [],
   "source": [
    "n = 4\n",
    "\n",
    "chars = ['N', 'E', 'R', 'O']\n",
    "\n",
    "x = np.array([[1, 0, 0, 0, 1,\n",
    "                  1, 1, 0, 0, 1,\n",
    "                  1, 0, 1, 0, 1,\n",
    "                  1, 0, 0, 1, 1,\n",
    "                  1, 0, 0, 0, 1],\n",
    "                 [1, 1, 1, 1, 1,\n",
    "                  1, 0, 0, 0, 0,\n",
    "                  1, 1, 1, 1, 1,\n",
    "                  1, 0, 0, 0, 0,\n",
    "                  1, 1, 1, 1, 1],\n",
    "                 [1, 1, 1, 1, 0,\n",
    "                  1, 0, 0, 0, 1,\n",
    "                  1, 1, 1, 1, 0,\n",
    "                  1, 0, 0, 1, 0,\n",
    "                  1, 0, 0, 0, 1],\n",
    "                 [0, 1, 1, 1, 0,\n",
    "                  1, 0, 0, 0, 1,\n",
    "                  1, 0, 0, 0, 1,\n",
    "                  1, 0, 0, 0, 1,\n",
    "                  0, 1, 1, 1, 0]])\n",
    "\n",
    "N = np.array([1, 0, 0, 0, 1,\n",
    "              1, 1, 0, 0, 1,\n",
    "              1, 0, 1, 0, 1,\n",
    "              1, 0, 0, 1, 1,\n",
    "              1, 0, 0, 0, 1])\n",
    "\n",
    "E = np.array([1, 1, 1, 1, 1,\n",
    "              1, 0, 0, 0, 0,\n",
    "              1, 1, 1, 1, 1,\n",
    "              1, 0, 0, 0, 0,\n",
    "              1, 1, 1, 1, 1])\n",
    "\n",
    "R = np.array([1, 1, 1, 1, 0,\n",
    "              1, 0, 0, 0, 1,\n",
    "              1, 1, 1, 1, 0,\n",
    "              1, 0, 0, 1, 0,\n",
    "              1, 0, 0, 0, 1])\n",
    "\n",
    "O = np.array([0, 1, 1, 1, 0,\n",
    "              1, 0, 0, 0, 1,\n",
    "              1, 0, 0, 0, 1,\n",
    "              1, 0, 0, 0, 1,\n",
    "              0, 1, 1, 1, 0])\n",
    "\n",
    "d = np.transpose(x)\n",
    "w = np.zeros(x.shape)\n",
    "for i in range(n):\n",
    "    w[i] = x[i] / np.linalg.norm((x[i]))\n",
    "\n",
    "minmax = [[0,1]] * 25\n",
    "net = newlvq_for_memory(minmax, 4, 25)\n",
    "\n",
    "net.layers[0].np['w'] = x\n",
    "net.layers[1].np['w'] = d"
   ]
  },
  {
   "cell_type": "code",
   "execution_count": 10,
   "metadata": {
    "collapsed": true
   },
   "outputs": [
    {
     "name": "stdout",
     "output_type": "stream",
     "text": [
      "[[0 0 0 0 0 1 1 0 0 1 1 1 0 0 1 1 0 1 1 1 0 0 0 1 1]]\n[[ 1.  0.  0.  0.  1.  1.  1.  0.  0.  1.  1.  0.  1.  0.  1.  1.  0.  0.\n   1.  1.  1.  0.  0.  0.  1.]]\n[1 0 0 0 1 1 1 0 0 1 1 0 1 0 1 1 0 0 1 1 1 0 0 0 1]\n"
     ]
    }
   ],
   "source": [
    "xtest = np.array([[0,0,0,0,0,\n",
    "                   1,1,0,0,1,\n",
    "                   1,1,0,0,1,\n",
    "                   1,0,1,1,1,\n",
    "                   0,0,0,1,1]])\n",
    "\n",
    "y = net.sim(xtest)\n",
    "\n",
    "print(xtest)\n",
    "print(y)\n",
    "print(N)"
   ]
  },
  {
   "cell_type": "code",
   "execution_count": null,
   "metadata": {},
   "outputs": [],
   "source": [
    ""
   ]
  }
 ],
 "metadata": {
  "kernelspec": {
   "display_name": "Python 3",
   "language": "python",
   "name": "python3"
  },
  "language_info": {
   "codemirror_mode": {
    "name": "ipython",
    "version": 3.0
   },
   "file_extension": ".py",
   "mimetype": "text/x-python",
   "name": "python",
   "nbconvert_exporter": "python",
   "pygments_lexer": "ipython3",
   "version": "3.6.1"
  }
 },
 "nbformat": 4,
 "nbformat_minor": 0
}