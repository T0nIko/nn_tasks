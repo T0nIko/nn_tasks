{
 "cells": [
  {
   "cell_type": "code",
   "execution_count": null,
   "metadata": {
    "collapsed": true
   },
   "outputs": [],
   "source": [
    "%matplotlib inline\n",
    "\n",
    "import neurolab as nl\n",
    "import numpy as np\n",
    "import matplotlib.pylab as pl\n",
    "\n",
    "pl.style.use('ggplot')"
   ]
  },
  {
   "cell_type": "code",
   "execution_count": 27,
   "metadata": {},
   "outputs": [
    {
     "data": {
      "image/png": "[encoded data removed]",
      "text/plain": [
       "<matplotlib.figure.Figure at 0x7f542a95c780>"
      ]
     },
     "metadata": {},
     "output_type": "display_data"
    }
   ],
   "source": [
    "nclust = 3\n",
    "\n",
    "data = np.array([(0, 7), (4.7, 9.7), (4.6, 4.6), (1.3, 7.7), (4.4, 9.7), (4.6, 3.6), (0.4, 7.5), (4.3, 9.9), (5.6,3.9),\n",
    "                 (0.2, 7), (4.8, 8.1), (5.1, 4.3), (0.3, 8), (4.3, 9.3), (4, 3.3), (0, 7.6), (4.2, 8.6), (5.2,3.8),\n",
    "                 (0.1, 7.6), (4.2, 8.6), (5.2, 3.8), (0.1, 7.5), (4.3, 9.5), (4.5, 3.3)])\n",
    "\n",
    "np.random.shuffle(data)\n",
    "\n",
    "pl.plot(data[:,0], data[:,1], 'b+')\n",
    "    \n",
    "pl.show()"
   ]
  },
  {
   "cell_type": "code",
   "execution_count": 23,
   "metadata": {},
   "outputs": [
    {
     "name": "stdout",
     "output_type": "stream",
     "text": [
      "Epoch: 50; Error: 17.000767656623644;\n",
      "Epoch: 100; Error: 16.915874460551528;\n",
      "Epoch: 150; Error: 16.91373325988303;\n",
      "Epoch: 200; Error: 16.913651935872842;\n",
      "Epoch: 250; Error: 16.913645679260753;\n",
      "Epoch: 300; Error: 16.913644947058295;\n",
      "Epoch: 350; Error: 16.913644862837543;\n",
      "Epoch: 400; Error: 16.91364485399718;\n",
      "Epoch: 450; Error: 16.91364485313618;\n",
      "Epoch: 500; Error: 16.913644853056734;\n",
      "Epoch: 550; Error: 16.913644853049657;\n",
      "Epoch: 600; Error: 16.913644853049025;\n",
      "Epoch: 650; Error: 16.91364485304898;\n",
      "Epoch: 700; Error: 16.91364485304898;\n",
      "Epoch: 750; Error: 16.91364485304898;\n",
      "Epoch: 800; Error: 16.91364485304898;\n",
      "Epoch: 850; Error: 16.91364485304898;\n",
      "Epoch: 900; Error: 16.91364485304898;\n",
      "Epoch: 950; Error: 16.91364485304898;\n",
      "Epoch: 1000; Error: 16.91364485304898;\n",
      "The maximum number of train epochs is reached\n"
     ]
    }
   ],
   "source": [
    "net = nl.net.newc([[0, 10], [0, 10]], nclust)\n",
    "\n",
    "error = net.train(data, epochs=1000, show=50, goal=0.002)"
   ]
  },
  {
   "cell_type": "code",
   "execution_count": 28,
   "metadata": {},
   "outputs": [
    {
     "data": {
      "image/png": "[encoded data removed]",
      "text/plain": [
       "<matplotlib.figure.Figure at 0x7f542b0ad940>"
      ]
     },
     "metadata": {},
     "output_type": "display_data"
    }
   ],
   "source": [
    "w = net.layers[0].np['w']\n",
    "\n",
    "pl.plot(data[:,0], data[:,1], 'b+', w[:,0], w[:,1], 'ro')\n",
    "pl.ylabel('Net output')\n",
    "\n",
    "pl.show()"
   ]
  },
  {
   "cell_type": "code",
   "execution_count": null,
   "metadata": {
    "collapsed": true
   },
   "outputs": [],
   "source": [
    ""
   ]
  }
 ],
 "metadata": {
  "kernelspec": {
   "display_name": "Python 3",
   "language": "python",
   "name": "python3"
  },
  "language_info": {
   "codemirror_mode": {
    "name": "ipython",
    "version": 3.0
   },
   "file_extension": ".py",
   "mimetype": "text/x-python",
   "name": "python",
   "nbconvert_exporter": "python",
   "pygments_lexer": "ipython3",
   "version": "3.6.1"
  }
 },
 "nbformat": 4,
 "nbformat_minor": 0
}