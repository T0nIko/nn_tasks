{
 "cells": [
  {
   "cell_type": "code",
   "execution_count": 25,
   "metadata": {
    "collapsed": true
   },
   "outputs": [],
   "source": [
    "%matplotlib inline\n",
    "\n",
    "import neurolab as nl\n",
    "import numpy as np\n",
    "import matplotlib.pylab as pl\n",
    "import math\n",
    "\n",
    "pl.style.use('ggplot')\n",
    "pl.rcParams[\"figure.figsize\"] = [12, 9]"
   ]
  },
  {
   "cell_type": "code",
   "execution_count": 26,
   "metadata": {},
   "outputs": [],
   "source": [
    "def Norma(v):\n",
    "    norma_v = 0\n",
    "    for i in range(len(v)):\n",
    "        norma_v += v[i]*v[i]\n",
    "\n",
    "    return math.sqrt(norma_v)"
   ]
  },
  {
   "cell_type": "code",
   "execution_count": 27,
   "metadata": {},
   "outputs": [
    {
     "name": "stdout",
     "output_type": "stream",
     "text": [
      "[[ 0.89442719 -0.4472136   0.          0.        ]\n [ 0.4472136   0.89442719  0.          0.        ]\n [ 0.          0.          0.89442719  0.4472136 ]\n [ 0.          0.          0.4472136  -0.89442719]]\n"
     ]
    }
   ],
   "source": [
    "n = 4\n",
    "\n",
    "x = np.array([[2., -1., 0., 0.], [1., 2., 0., 0.], [0., 0., 2., 1.], [0., 0., 1., -2.]])\n",
    "\n",
    "for i in range(len(x)):\n",
    "    x[i] = x[i]/Norma(x[i])\n",
    "    \n",
    "    \n",
    "print(x)\n",
    "\n",
    "d = np.array([[1, 1], [-1, -1], [1, -1], [-1, 1]])"
   ]
  },
  {
   "cell_type": "code",
   "execution_count": 29,
   "metadata": {},
   "outputs": [
    {
     "name": "stdout",
     "output_type": "stream",
     "text": [
      "Training data\n[[ 0.89442719 -0.4472136   0.          0.        ]\n [ 0.4472136   0.89442719  0.          0.        ]\n [ 0.          0.          0.89442719  0.4472136 ]\n [ 0.          0.          0.4472136  -0.89442719]]\n[[ 1.  1.]\n [-1. -1.]\n [ 1. -1.]\n [-1.  1.]]\nDelta\n[[ 0.  0.]\n [ 0.  0.]\n [ 0.  0.]\n [ 0.  0.]]\nTest input\n[[ 0.97324899 -0.22975292  0.          0.        ]\n [ 0.22975292  0.97324899  0.          0.        ]\n [ 0.          0.          0.97324899  0.22975292]\n [ 0.          0.          0.97324899  0.22975292]]\n[[ 1.  1.]\n [-1. -1.]\n [ 1. -1.]\n [ 1. -1.]]\nDelta\n[[ 0.25650393  0.25650393]\n [ 0.20300191  0.20300191]\n [ 0.25650393 -0.25650393]\n [-1.74349607  1.74349607]]\nShifted test input\n[[ 0.78737497 -0.18587402  0.41562694  0.41562694]\n [ 0.31622777  0.63245553  0.70710678  0.        ]\n [ 0.          0.70710678  0.63245553  0.31622777]\n [ 0.70710678  0.          0.31622777 -0.63245553]]\n[[ 1. -0.]\n [-0. -1.]\n [-0. -2.]\n [-0.  1.]]\nDelta\n[[-0.34499702  1.14199511]\n [-0.60912098  0.02333455]\n [ 1.24157652  0.65579008]\n [-0.60912098 -0.02333455]]\n"
     ]
    }
   ],
   "source": [
    "net = nl.net.newp(nl.tool.minmax(x), 2, nl.net.trans.PureLin())\n",
    "\n",
    "w = np.zeros((2,4))\n",
    "\n",
    "for i in range(4):\n",
    "    for j in range(2):\n",
    "        for k in range (n):\n",
    "            w[j,i] += x[k,i]*d[k,j]\n",
    "            \n",
    "        \n",
    "\n",
    "net.layers[0].np['w'] = w\n",
    "net.layers[0].np['b'] = 0\n",
    "# error = net.train(x, d, epochs=1000, show=100, goal=0.02)\n",
    "\n",
    "y = net.sim(x)\n",
    "\n",
    "print(\"Training data\")\n",
    "print(x)\n",
    "print(y.round(0))\n",
    "print(\"Delta\")\n",
    "print(d-y)\n",
    "\n",
    "xtest = x + np.eye(4)\n",
    "\n",
    "for i in range(len(xtest)):\n",
    "    xtest[i] = xtest[i]/Norma(xtest[i])\n",
    "\n",
    "y = net.sim(xtest)\n",
    "\n",
    "print(\"Test input\")\n",
    "print(xtest)\n",
    "print(y.round(0))\n",
    "print(\"Delta\")\n",
    "print(d-y)\n",
    "\n",
    "xtest = x + np.array([[1., 0., 1. ,1.], [0., 0., 1., 0.], [0., 1., 0., 0.], [1., 0., 0., 0.]])\n",
    "\n",
    "for i in range(len(xtest)):\n",
    "    xtest[i] = xtest[i]/Norma(xtest[i])\n",
    "\n",
    "y = net.sim(xtest)\n",
    "\n",
    "print(\"Shifted test input\")\n",
    "print(xtest)\n",
    "print(y.round(0))\n",
    "print(\"Delta\")\n",
    "print(d-y)"
   ]
  },
  {
   "cell_type": "code",
   "execution_count": null,
   "metadata": {},
   "outputs": [],
   "source": [
    ""
   ]
  }
 ],
 "metadata": {
  "kernelspec": {
   "display_name": "Python 2",
   "language": "python",
   "name": "python2"
  },
  "language_info": {
   "codemirror_mode": {
    "name": "ipython",
    "version": 2.0
   },
   "file_extension": ".py",
   "mimetype": "text/x-python",
   "name": "python",
   "nbconvert_exporter": "python",
   "pygments_lexer": "ipython2",
   "version": "2.7.6"
  }
 },
 "nbformat": 4,
 "nbformat_minor": 0
}