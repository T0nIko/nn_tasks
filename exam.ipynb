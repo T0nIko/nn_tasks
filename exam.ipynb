{
 "cells": [
  {
   "cell_type": "code",
   "execution_count": 56,
   "metadata": {
    "collapsed": true
   },
   "outputs": [],
   "source": [
    "%matplotlib inline\n",
    "\n",
    "import neurolab as nl\n",
    "import numpy as np\n",
    "import matplotlib.pylab as pl\n",
    "\n",
    "pl.style.use('ggplot')"
   ]
  },
  {
   "cell_type": "code",
   "execution_count": 65,
   "metadata": {},
   "outputs": [
    {
     "data": {
      "image/png": "[encoded data removed]",
      "text/plain": [
       "<matplotlib.figure.Figure at 0x7f065ed39c88>"
      ]
     },
     "metadata": {},
     "output_type": "display_data"
    }
   ],
   "source": [
    "n = 10\n",
    "\n",
    "x1 = np.array([-4, -1, 1, 2, 1])\n",
    "y1 = np.array([1, 2, 1, -1, -4])\n",
    "\n",
    "c1 = np.array([(-4, 1), (-1, 2), (1, 1), (2, -1), (1, -4)])\n",
    "\n",
    "x2 = np.array([-4, -2, 0, -1, 1])\n",
    "y2 = np.array([-1, -1, 0, -3, -2])\n",
    "\n",
    "c2 = np.array([(-4, 1), (-2, -1), (0, 0), (-1, -3), (1, -2)])\n",
    "\n",
    "c = np.array([-4, 1, -1, 2, 1, 1, 2, -1, 1, -4, -4, 1, -2, -1, 0, 0, -1, -3, 1, -2]).reshape(n, 2)\n",
    "c_ff = np.array([[-4, 1], [-1, 2], [1, 1], [2, -1], [1, -4], [-4, 1], [-2, -1], [0, 0], [-1, -3], [1, -2]])\n",
    "\n",
    "d = np.array([[0, 1], [0, 1], [0, 1], [0, 1], [0, 1], [1, 0], [1, 0], [1, 0], [1, 0], [1, 0]])\n",
    "d_ff = np.array([1, 1, 1, 1, 1, -1, -1, -1, -1, -1])\n",
    "\n",
    "pl.plot(x1, y1, 'r*')\n",
    "pl.plot(x2, y2, 'b*')\n",
    "pl.show()"
   ]
  },
  {
   "cell_type": "code",
   "execution_count": 74,
   "metadata": {},
   "outputs": [
    {
     "name": "stderr",
     "output_type": "stream",
     "text": [
      "/home/anton/v_envs/test_env/lib/python3.6/site-packages/neurolab/net.py:179: VisibleDeprecationWarning: using a non-integer number instead of an integer will result in an error in the future\n  layer_out.np['w'][n][st:i].fill(1.0)\n"
     ]
    },
    {
     "name": "stdout",
     "output_type": "stream",
     "text": [
      "Epoch: 1000; Error: 0.1;\n"
     ]
    },
    {
     "name": "stdout",
     "output_type": "stream",
     "text": [
      "Epoch: 2000; Error: 0.1;\n"
     ]
    },
    {
     "name": "stdout",
     "output_type": "stream",
     "text": [
      "Epoch: 3000; Error: 0.1;\n"
     ]
    },
    {
     "name": "stdout",
     "output_type": "stream",
     "text": [
      "Epoch: 4000; Error: 0.1;\n"
     ]
    },
    {
     "name": "stdout",
     "output_type": "stream",
     "text": [
      "Epoch: 5000; Error: 0.1;\n"
     ]
    },
    {
     "name": "stdout",
     "output_type": "stream",
     "text": [
      "Epoch: 6000; Error: 0.1;\n"
     ]
    },
    {
     "name": "stdout",
     "output_type": "stream",
     "text": [
      "Epoch: 7000; Error: 0.1;\n"
     ]
    },
    {
     "name": "stdout",
     "output_type": "stream",
     "text": [
      "Epoch: 8000; Error: 0.1;\n"
     ]
    },
    {
     "name": "stdout",
     "output_type": "stream",
     "text": [
      "Epoch: 9000; Error: 0.1;\n"
     ]
    },
    {
     "name": "stdout",
     "output_type": "stream",
     "text": [
      "Epoch: 10000; Error: 0.1;\nThe maximum number of train epochs is reached\n"
     ]
    }
   ],
   "source": [
    "net = nl.net.newlvq(nl.tool.minmax(c), n, [.5, .5])\n",
    "\n",
    "error = net.train(c.reshape(n, 2), d, epochs=10000, show=1000, goal=0.02)"
   ]
  },
  {
   "cell_type": "code",
   "execution_count": 76,
   "metadata": {},
   "outputs": [
    {
     "name": "stdout",
     "output_type": "stream",
     "text": [
      "[[0 1]\n [0 1]\n [0 1]\n [0 1]\n [0 1]\n [1 0]\n [1 0]\n [1 0]\n [1 0]\n [1 0]]\n[[ 1.  0.]\n [ 0.  1.]\n [ 1.  0.]\n [ 0.  1.]\n [ 1.  0.]\n [ 1.  0.]\n [ 1.  0.]\n [ 1.  0.]\n [ 0.  1.]\n [ 0.  1.]]\n"
     ]
    }
   ],
   "source": [
    "xtest = np.random.uniform(-4, 2, (10, 2))\n",
    "\n",
    "out = net.sim(xtest)\n",
    "\n",
    "print(d)\n",
    "print(out.round(0))"
   ]
  }
 ],
 "metadata": {
  "kernelspec": {
   "display_name": "Python 2",
   "language": "python",
   "name": "python2"
  },
  "language_info": {
   "codemirror_mode": {
    "name": "ipython",
    "version": 2.0
   },
   "file_extension": ".py",
   "mimetype": "text/x-python",
   "name": "python",
   "nbconvert_exporter": "python",
   "pygments_lexer": "ipython2",
   "version": "2.7.6"
  }
 },
 "nbformat": 4,
 "nbformat_minor": 0
}